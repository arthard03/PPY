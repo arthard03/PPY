{
 "nbformat": 4,
 "nbformat_minor": 0,
 "metadata": {
  "colab": {
   "provenance": []
  },
  "kernelspec": {
   "name": "python3",
   "language": "python",
   "display_name": "Python 3 (ipykernel)"
  },
  "language_info": {
   "name": "python"
  }
 },
 "cells": [
  {
   "cell_type": "markdown",
   "source": [
    "Warning:\n",
    "\n",
    "After each exercise from now on, do a git commit and write in a message what you did."
   ],
   "metadata": {
    "id": "vWgiVDOhNaoM"
   }
  },
  {
   "cell_type": "markdown",
   "source": [
    "3.\n",
    "Write a Python program that takes input from the user to create a list of integers and then performs the following operations:\n",
    "\n",
    "  a. Input: Ask the user to enter a series of space-separated integers.\n",
    "\n",
    "  b. Convert Input: Convert the input string into a list of integers.\n",
    "  \n",
    "  c. Sorting: Sort the list in ascending order.\n",
    "\n",
    "  example:\n",
    "  ```\n",
    "  Enter a series of space-separated integers: 5 2 8 1 9\n",
    "\n",
    "  Sorted list: [1, 2, 5, 8, 9]\n",
    "  ```\n"
   ],
   "metadata": {
    "id": "PspxMdWBgq0E"
   }
  },
  {
   "cell_type": "code",
   "source": [
    "# Input\n",
    "input_numbers = input(\"Enter a series of space-separated integers: \")\n",
    "# Convert Input:\n",
    "numbers_list = [int(i) for i in input_numbers.split()]\n",
    "print (numbers_list)\n",
    "# Sorting:\n",
    "numbers_list.sort()\n",
    "# Print Output\n",
    "print(\"Sorted list:\", numbers_list)"
   ],
   "metadata": {
    "id": "AI_-8VGKh7rA",
    "ExecuteTime": {
     "end_time": "2024-03-11T08:51:26.412028Z",
     "start_time": "2024-03-11T08:51:23.652045Z"
    }
   },
   "execution_count": 5,
   "outputs": [
    {
     "name": "stdout",
     "output_type": "stream",
     "text": [
      "[1, 2, 3, 4, 5]\n",
      "Sorted list: [1, 2, 3, 4, 5]\n"
     ]
    }
   ]
  },
  {
   "cell_type": "markdown",
   "source": [
    "-----------------------------------------------------------------------------\n",
    "\n",
    "Difference between Lists and Tuples:\n",
    "\n",
    "Lists are mutable, meaning their elements can be changed after creation, while tuples are immutable, meaning their elements cannot be changed after creation.\n",
    "Lists are represented by square brackets [ ], whereas tuples are represented by parentheses ( ).\n",
    "Lists have methods like append(), insert(), and remove() to modify the list, while tuples do not support such methods due to their immutability.\n",
    "Lists are typically used when the elements need to be modified or updated frequently, while tuples are used when the data is meant to be constant or unchangeable.\n",
    "\n",
    "-----------------------------------------------------------------------------\n"
   ],
   "metadata": {
    "id": "i3SZ_u9yl9aa"
   }
  },
  {
   "cell_type": "markdown",
   "source": [
    "4.\n",
    "Extend the previous Python program to include tuples. Now, in addition to creating a list of integers from user input, the program should also create a tuple of those integers and perform the following operations:\n",
    "\n",
    "  a. Input: Ask the user to enter a series of space-separated integers.\n",
    "\n",
    "  b. Convert Input: Convert the input string into a list of integers and a tuple of integers.\n",
    "\n",
    "  c. Sorting: Sort both the list and the tuple in ascending order.\n",
    "\n",
    "  d. Print Output: Print the sorted list and tuple.\n",
    "\n",
    "  example:\n",
    "  ```\n",
    "  Enter a series of space-separated integers: 5 2 8 1 9\n",
    "  \n",
    "  Sorted list: [1, 2, 5, 8, 9]\n",
    "  Sorted tuple: (1, 2, 5, 8, 9)\n",
    "  ```\n"
   ],
   "metadata": {
    "id": "s3dGdHFnmHGE"
   }
  },
  {
   "cell_type": "code",
   "source": [
    "# Input\n",
    "input_numbers = input(\"Enter a series of space-separated integers: \")\n",
    "\n",
    "# Convert Input:\n",
    "numbers_list = [int(i) for i in input_numbers.split()]\n",
    "sorted_tuple = tuple(input_numbers.split())\n",
    "\n",
    "# Sorting:\n",
    "numbers_list.sort()\n",
    "sorted_tuple=sorted(sorted_tuple)\n",
    "# Print Output\n",
    "print(\"Sorted list:\", numbers_list)\n",
    "print(\"Sorted tuple:\", sorted_tuple)"
   ],
   "metadata": {
    "id": "5hm5uHjjl-wZ",
    "ExecuteTime": {
     "end_time": "2024-03-11T08:51:27.865311Z",
     "start_time": "2024-03-11T08:51:26.413039Z"
    }
   },
   "execution_count": 6,
   "outputs": [
    {
     "name": "stdout",
     "output_type": "stream",
     "text": [
      "Sorted list: []\n",
      "Sorted tuple: []\n"
     ]
    }
   ]
  },
  {
   "cell_type": "markdown",
   "source": [
    "5.\n",
    "Extend the previous Python program to demonstrate the manipulation of lists using the append(), insert(), and remove() functions, and to emphasize the immutability of tuples.\n",
    "\n",
    "  a. Input: Ask the user to enter a series of space-separated integers.\n",
    "\n",
    "  b. Convert Input: Convert the input string into a list of integers and a tuple of integers.\n",
    "  \n",
    "  c. Manipulate List: Use the append(), insert(), and remove() functions to modify the list.\n",
    "  \n",
    "  d. Attempt to Modify Tuple: Try to modify the tuple using the same operations as the list.\n",
    "  \n",
    "  e. Print Output: Print the modified list and attempt to print the modified tuple.\n",
    "\n",
    "  example:\n",
    "  ```\n",
    "  Enter a series of space-separated integers: 5 2 8 1 9\n",
    "\n",
    "  Tuples are immutable and cannot be modified.\n",
    "  Modified list: [5, 2, 20, 1, 9, 10]\n",
    "  Tuple remains unchanged: (5, 2, 8, 1, 9)\n",
    "  ```"
   ],
   "metadata": {
    "id": "ys8cK-cdqIk7"
   }
  },
  {
   "cell_type": "code",
   "outputs": [
    {
     "name": "stdout",
     "output_type": "stream",
     "text": [
      "Tuples are immutable and cannot be modified.\n",
      "Modified list: [1, 20, 3, 4, 5, 10]\n",
      "Tuple remains unchanged: ('1', '2', '3', '4', '5')\n"
     ]
    }
   ],
   "source": [
    "# Input\n",
    "input_numbers = input(\"Enter a series of space-separated integers: \")\n",
    "\n",
    "# Convert Input\n",
    "numbers_list = [int(i) for i in input_numbers.split()]\n",
    "numbers_tuple = tuple(input_numbers.split())\n",
    "\n",
    "# Manipulate List\n",
    "#   Append 10 to the list\n",
    "numbers_list.append(10)\n",
    "\n",
    "#   Insert 20 at index 2\n",
    "numbers_list.insert(2,20)\n",
    "\n",
    "#   Remove one elementfrom the list\n",
    "numbers_list.remove(2)\n",
    "\n",
    "try: numbers_tuple.append(10)\n",
    "    # numbers_tuple += (10,)\n",
    "    #   Append 10 to the tuple\n",
    "except AttributeError:\n",
    "    print(\"Tuples are immutable and cannot be modified.\")\n",
    "try:  numbers_tuple.insert(20)\n",
    "    # numbers_tuple= numbers_tuple[:2]+(20,)\n",
    "    #   Insert 20 at index 2\n",
    "except AttributeError:\n",
    "    pass  # Insert operation will also raise an error\n",
    "try:\n",
    "    numbers_tuple.remove(3)\n",
    "\n",
    "    #   Remove one element  from the tuple\n",
    "except AttributeError:\n",
    "    pass  # Remove operation will also raise an error\n",
    "\n",
    "# Print Output\n",
    "print(\"Modified list:\", numbers_list)\n",
    "print(\"Tuple remains unchanged:\", numbers_tuple)"
   ],
   "metadata": {
    "id": "u8ATNzGWqT0H",
    "ExecuteTime": {
     "end_time": "2024-03-11T12:48:39.727212Z",
     "start_time": "2024-03-11T12:48:37.347372Z"
    }
   },
   "execution_count": 1
  },
  {
   "cell_type": "markdown",
   "source": [
    "--------------------------------------------------------------------------------\n",
    "1. **Set**:\n",
    "A set in Python is a collection of unique elements that are unordered. This means that you cannot access elements by indices, and the elements are stored in an unordered manner. The main feature of a set is that each element in the set must be unique. Sets are useful when you want to perform set operations, such as mathematical set operations (e.g., union, difference, intersection).\n",
    "\n",
    "Example of creating a set:\n",
    "```python\n",
    "set = {1, 2, 3, 4, 5}  # Creating a set\n",
    "print(set)  # Displaying the set\n",
    "```\n",
    "\n",
    "2. **Dictionary**:\n",
    "A dictionary in Python is a collection of key-value pairs, where each key is unique. Dictionaries are unique in the sense that they allow us to associate specific values with specific keys, making it easy to retrieve values by referring to their corresponding keys. Dictionaries are very useful when you want to store data in the form of key-value pairs, such as dictionary definitions, test scores, survey results, etc.\n",
    "\n",
    "Example of creating a dictionary:\n",
    "```python\n",
    "dictionary = {\"key1\": \"value1\", \"key2\": \"value2\", \"key3\": \"value3\"}  # Creating a dictionary\n",
    "print(dictionary)  # Displaying the dictionary\n",
    "```\n",
    "It's important to remember that both in sets and dictionaries, keys (in the case of dictionaries) and elements (in the case of sets) must be hashable, meaning they must be immutable (e.g., numbers, strings, tuples), and they must have a defined hashing method.\n",
    "\n",
    "--------------------------------------------------------------------------------"
   ],
   "metadata": {
    "id": "IMGqb8VoxwOv"
   }
  },
  {
   "cell_type": "markdown",
   "source": [
    "6.\n",
    "Additionally, introduce sets and dictionaries and perform basic operations on them.\n",
    "\n",
    "  a. ...\n",
    "\n",
    "  b. ...\n",
    "\n",
    "  c. ...\n",
    "\n",
    "  d. ...\n",
    "\n",
    "  e. Set Operations: Perform union, intersection, and difference operations on the set.\n",
    "\n",
    "  f. Dictionary Operations: Print the dictionary, add a new key-value pair, and delete an existing key-value pair.\n",
    "\n",
    "  g. Print Output: Print the modified list, unchanged tuple, set operations results, and updated dictionary.\n",
    "\n",
    "  example:\n",
    "  ```\n",
    "  Enter a series of space-separated integers: 5 2 8 1 9\n",
    "\n",
    "  Tuples are immutable and cannot be modified.\n",
    "  Original Dictionary: {5: 25, 2: 4, 8: 64, 1: 1, 9: 81}\n",
    "  Modified list: [5, 2, 20, 1, 9, 10]\n",
    "  Tuple remains unchanged: (5, 2, 8, 1, 9)\n",
    "  Union of set: {1, 2, 5, 9, 10, 11, 12}\n",
    "  Intersection of set: {8, 5}\n",
    "  Difference of set: {9}\n",
    "  Updated Dictionary: {5: 25, 2: 4, 1: 1, 9: 81, 11: 121}\n",
    "\n",
    "  ```\n",
    "\n"
   ],
   "metadata": {
    "id": "PD4Fhykxx1w6"
   }
  },
  {
   "cell_type": "code",
   "source": [
    "# Input\n",
    "input_numbers = input(\"Enter a series of space-separated integers: \")\n",
    "\n",
    "# Convert Input\n",
    "numbers_list= list(input_numbers)\n",
    "numbers_tuple=tuple(input_numbers.split())\n",
    "# Manipulate List\n",
    "# Append 10 to the list\n",
    "numbers_list.append(10)\n",
    "# Insert 20 at index 2\n",
    "numbers_list.insert(2,20)\n",
    "    # Remove the element 8\n",
    "if 8 in numbers_list: numbers_list.remove(8)\n",
    "# Attempt to Modify Tuple (this will raise an error)\n",
    "try:\n",
    "    numbers_tuple.append(10)\n",
    "    # numbers_tuple=numbers_tuple[:2]+(2)\n",
    "    # Append 10 to the tuple\n",
    "except AttributeError:\n",
    "    print(\"Tuples are immutable and cannot be modified.\")\n",
    "\n",
    "# Set Operations\n",
    "set_a = set(numbers_list)\n",
    "set_b={1,2,3,4,5,6,7,8,9}\n",
    "# Union\n",
    "set_union=set_a.union(set_b)\n",
    "# Intersection\n",
    "set_intersection=set_a.intersection(set_b)\n",
    "# Difference\n",
    "set_difference=set_a.difference(set_b)\n",
    "\n",
    "# Dictionary Operations\n",
    "numbers_dict=dict={1:\"one\",2:\"two\",3:\"four\",4:\"five\",5:\"six\"}\n",
    "print(\"Original Dictionary:\", numbers_dict)\n",
    "# Add a new key-value pair\n",
    "numbers_dict[6]=\"six\"\n",
    "# Delete an existing key-value pair\n",
    "numbers_dict.pop(1)\n",
    "\n",
    "# Print Output\n",
    "print(\"Modified list:\", numbers_list)\n",
    "print(\"Tuple remains unchanged:\", numbers_tuple)\n",
    "print(\"Union of set:\", set_union)\n",
    "print(\"Intersection of set:\", set_intersection)\n",
    "print(\"Difference of set:\", set_difference)\n",
    "print(\"Updated Dictionary:\", numbers_dict)"
   ],
   "metadata": {
    "id": "AwRmtngJzAZI",
    "ExecuteTime": {
     "end_time": "2024-03-11T08:51:28.697565Z",
     "start_time": "2024-03-11T08:51:28.697565Z"
    }
   },
   "execution_count": null,
   "outputs": []
  },
  {
   "cell_type": "markdown",
   "source": [
    "**Built-in Types and Type Conversion**\n",
    "\n",
    "  Extend the previous Python program to demonstrate the use of built-in types and type conversion. Perform the following operations:\n",
    "\n",
    "  a. ...\n",
    "\n",
    "  b. ...\n",
    "\n",
    "  c. ...\n",
    "\n",
    "  d. ...\n",
    "\n",
    "  e. ...\n",
    "\n",
    "  f. ...\n",
    "\n",
    "  g. Type Conversion: Convert the list to a tuple, set, and dictionary. Convert the tuple to a list, set, and dictionary. Convert the set to a list, tuple, and dictionary. Convert the dictionary to a list, tuple, and set.\n",
    "\n",
    "  h. Print Output: Print the results of the type conversion operations.\n",
    "\n",
    "  example:\n",
    "  ```\n",
    "  Enter a series of space-separated integers: 5 2 8 1 9\n",
    "\n",
    "  Tuples are immutable and cannot be modified.\n",
    "  Original Dictionary: {5: 25, 2: 4, 8: 64, 1: 1, 9: 81}\n",
    "  List to Tuple: (5, 2, 20, 1, 9, 10)\n",
    "  List to Set: {1, 2, 5, 9, 10, 20}\n",
    "  List to Dictionary: {5: 25, 2: 4, 20: 400, 1: 1, 9: 81, 10: 100}\n",
    "  Tuple to List: [5, 2, 8, 1, 9]\n",
    "  Tuple to Set: {1, 2, 5, 8, 9}\n",
    "  Tuple to Dictionary: {5: 25, 2: 4, 8: 64, 1: 1, 9: 81}\n",
    "  Set to List: [1, 2, 5, 9, 10, 20]\n",
    "  Set to Tuple: (1, 2, 5, 9, 10, 20)\n",
    "  Set to Dictionary: {1: 1, 2: 4, 5: 25, 9: 81, 10: 100, 20: 400}\n",
    "  Dictionary to List: [5, 2, 20, 1, 9, 10, 11]\n",
    "  Dictionary to Tuple: (5, 2, 20, 1, 9, 10, 11)\n",
    "  Dictionary to Set: {1, 2, 5, 9, 10, 11, 20}\n",
    "```"
   ],
   "metadata": {
    "id": "N0xlv8oD2aXa"
   }
  },
  {
   "cell_type": "code",
   "source": [
    "# Input\n",
    "input_numbers = input(\"Enter a series of space-separated integers: \")\n",
    "\n",
    "# Convert Input\n",
    "numbers_list = input_numbers.split(\" \")\n",
    "numbers_tuple=tuple(input_numbers)\n",
    "set_a = set(input_numbers)\n",
    "set_b={1,2,3,4,5,6,7,8,9}\n",
    "# Manipulate List\n",
    "numbers_list.append(10)\n",
    "# Attempt to Modify Tuple (this will raise an error)\n",
    "try: numbers_tuple.append(10)\n",
    "except AttributeError:\n",
    "    print(\"Tuples are immutable and cannot be modified.\")\n",
    "    # Set Operations\n",
    "set_c=set_a.intersection(set_b)\n",
    "# Dictionary Operations\n",
    "numbers_dict=dict={1:\"one\",2:\"two\",3:\"four\",4:\"five\",5:\"six\"}\n",
    "print(\"Original Dictionary:\", numbers_dict)\n",
    "# Add a new key-value pair\n",
    "numbers_dict[2]=\"apple\"\n",
    "# Delete an existing key-value pair\n",
    "numbers_dict.pop(1)\n",
    "\n",
    "# Type Conversion\n",
    "# list_to_tuple =\n",
    "list_to_tuple = tuple(numbers_list)\n",
    "# list_to_set =\n",
    "list_to_set = set(numbers_list)\n",
    "# list_to_dict =\n",
    "list_to_dict = {index: value for index, value in enumerate(numbers_list)}\n",
    "# tuple_to_list =\n",
    "tuple_to_list = list(numbers_tuple)\n",
    "# tuple_to_set =\n",
    "tuple_to_set = set(numbers_tuple)\n",
    "# tuple_to_dict =\n",
    "tuple_to_dict = {index: value for index, value in enumerate(numbers_tuple)}\n",
    "# set_to_list =\n",
    "set_to_list = list(set_a)\n",
    "# set_to_tuple =\n",
    "set_to_tuple = tuple(set_a)\n",
    "# set_to_dict =\n",
    "set_to_dict = {index: value for index, value in enumerate(set_a)}\n",
    "# dict_to_list =\n",
    "dict_to_list = list(numbers_dict.values())\n",
    "# dict_to_tuple =\n",
    "dict_to_tuple = tuple(numbers_dict.items())\n",
    "# dict_to_set =\n",
    "dict_to_set = set(numbers_dict.values())\n",
    "\n",
    "\n",
    "# Print Output\n",
    "print(\"List to Tuple:\", list_to_tuple)\n",
    "print(\"List to Set:\", list_to_set)\n",
    "print(\"List to Dictionary:\", list_to_dict)\n",
    "print(\"Tuple to List:\", tuple_to_list)\n",
    "print(\"Tuple to Set:\", tuple_to_set)\n",
    "print(\"Tuple to Dictionary:\", tuple_to_dict)\n",
    "print(\"Set to List:\", set_to_list)\n",
    "print(\"Set to Tuple:\", set_to_tuple)\n",
    "print(\"Set to Dictionary:\", set_to_dict)\n",
    "print(\"Dictionary to List:\", dict_to_list)\n",
    "print(\"Dictionary to Tuple:\", dict_to_tuple)\n",
    "print(\"Dictionary to Set:\", dict_to_set)"
   ],
   "metadata": {
    "id": "-NzD4x_n31Rv",
    "ExecuteTime": {
     "end_time": "2024-03-11T08:51:35.276295Z",
     "start_time": "2024-03-11T08:51:31.946225Z"
    }
   },
   "execution_count": 9,
   "outputs": [
    {
     "name": "stdout",
     "output_type": "stream",
     "text": [
      "Tuples are immutable and cannot be modified.\n",
      "Original Dictionary: {1: 'one', 2: 'two', 3: 'four', 4: 'five', 5: 'six'}\n",
      "List to Tuple: ('1', '2', '3', '4', '5', 10)\n",
      "List to Set: {'4', '1', '3', 10, '5', '2'}\n",
      "List to Dictionary: {0: '1', 1: '2', 2: '3', 3: '4', 4: '5', 5: 10}\n",
      "Tuple to List: ['1', ' ', '2', ' ', '3', ' ', '4', ' ', '5']\n",
      "Tuple to Set: {'4', '1', '3', '5', ' ', '2'}\n",
      "Tuple to Dictionary: {0: '1', 1: ' ', 2: '2', 3: ' ', 4: '3', 5: ' ', 6: '4', 7: ' ', 8: '5'}\n",
      "Set to List: ['4', '1', '3', '5', ' ', '2']\n",
      "Set to Tuple: ('4', '1', '3', '5', ' ', '2')\n",
      "Set to Dictionary: {0: '4', 1: '1', 2: '3', 3: '5', 4: ' ', 5: '2'}\n",
      "Dictionary to List: ['apple', 'four', 'five', 'six']\n",
      "Dictionary to Tuple: ((2, 'apple'), (3, 'four'), (4, 'five'), (5, 'six'))\n",
      "Dictionary to Set: {'four', 'five', 'apple', 'six'}\n"
     ]
    }
   ]
  },
  {
   "cell_type": "markdown",
   "source": [
    "#8\n",
    "Extend the previous Python program to write the output to a file and perform operations on that file.\n",
    "\n",
    "  a. ...\n",
    "\n",
    "  b. ...\n",
    "\n",
    "  c. ...\n",
    "\n",
    "  d. ...\n",
    "\n",
    "  e. ...\n",
    "\n",
    "  f. ...\n",
    "\n",
    "  g. ...\n",
    "\n",
    "  h. Write Output to File: Write all the results (original inputs, modified data structures, type conversion results) to a file.\n",
    "\n",
    "  i. Perform Operations on File: Open the file, read its content, and perform some operations like counting the number of lines, finding specific data, etc.\n",
    "\n",
    "  j. Modify File Content: Modify the content of the file by, for example, changing specific lines or adding new lines."
   ],
   "metadata": {
    "collapsed": false
   }
  },
  {
   "cell_type": "code",
   "outputs": [
    {
     "name": "stdout",
     "output_type": "stream",
     "text": [
      "Tuples are immutable and cannot be modified.\n",
      "\n",
      "Content of the file:\n",
      "Student Number: 23123\n",
      "\n",
      "Original List: ['1', '23', '4', '5', '6', 10]\n",
      "Original Tuple: ('1', ' ', '2', '3', ' ', '4', ' ', '5', ' ', '6')\n",
      "Original Set: {1, 2, 3, 4, 5, 6, 7, 8, 9}\n",
      "Original Dictionary: {0: '1', 2: '4', 3: '5', 4: '6'}\n",
      "\n",
      "Manipulated List: ['1', '23', '4', '5', '6', 10]\n",
      "Manipulated Tuple: ('1', ' ', '2', '3', ' ', '4', ' ', '5', ' ', '6')\n",
      "Union of Set: {1, 2, 3, 4, 5, 6, 7, 8, 9, 10, '23', '4', '6', '1', '5'}\n",
      "Intersection of Set: set()\n",
      "Difference of Set: {'23', 10, '4', '6', '1', '5'}\n",
      "Updated Dictionary: {0: '1', 2: '4', 3: '5', 4: '6'}\n",
      "\n",
      "List to Tuple: ('1', '23', '4', '5', '6', 10)\n",
      "List to Set: {'23', 10, '4', '6', '1', '5'}\n",
      "List to Dictionary: {0: '1', 1: '23', 2: '4', 3: '5', 4: '6', 5: 10}\n",
      "Tuple to List: ['1', ' ', '2', '3', ' ', '4', ' ', '5', ' ', '6']\n",
      "Tuple to Set: {'3', '2', '4', ' ', '6', '1', '5'}\n",
      "Tuple to Dictionary: {0: '1', 1: ' ', 2: '2', 3: '3', 4: ' ', 5: '4', 6: ' ', 7: '5', 8: ' ', 9: '6'}\n",
      "Set to List: ['23', 10, '4', '6', '1', '5']\n",
      "Set to Tuple: ('23', 10, '4', '6', '1', '5')\n",
      "Set to Dictionary: {0: '23', 1: 10, 2: '4', 3: '6', 4: '1', 5: '5'}\n",
      "Dictionary to List: ['1', '4', '5', '6']\n",
      "Dictionary to Tuple: ((0, '1'), (2, '4'), (3, '5'), (4, '6'))\n",
      "Dictionary to Set: {'1', '6', '5', '4'}\n",
      "\n",
      "Total count of lines: 26\n",
      "259  Number of integers in a file \n",
      "23990  Sum of all numbers\n",
      "replaced, 1 with 2  \n"
     ]
    }
   ],
   "source": [
    "# Input\n",
    "input_numbers = input(\"Enter a series of space-separated integers: \")\n",
    "\n",
    "# Convert Input\n",
    "numbers_list= list(input_numbers.split())\n",
    "numbers_dict={index: value for index, value in enumerate(numbers_list)}\n",
    "numbers_tuple=tuple(input_numbers)\n",
    "# Manipulate List\n",
    "numbers_list.append(10)\n",
    "# Attempt to Modify Tuple (this will raise an error)\n",
    "try: numbers_tuple.append(10)\n",
    "except AttributeError:\n",
    "    print(\"Tuples are immutable and cannot be modified.\")\n",
    "# Set Operations\n",
    "set_a = set(numbers_list)\n",
    "set_b={1,2,3,4,5,6,7,8,9}\n",
    "numbers_set ={1,2,3,4,5,6,7,8,9}\n",
    "# Union\n",
    "set_union=set_a.union(set_b)\n",
    "# Intersection\n",
    "set_intersection=set_a.intersection(set_b)\n",
    "# Difference\n",
    "set_difference=set_a.difference(set_b)\n",
    "# Dictionary Operations\n",
    "numbers_dict.pop(1)\n",
    "# Type Conversion\n",
    "# list_to_tuple =\n",
    "list_to_tuple = tuple(numbers_list)\n",
    "# list_to_set =\n",
    "list_to_set = set(numbers_list)\n",
    "# list_to_dict =\n",
    "list_to_dict = {index: value for index, value in enumerate(numbers_list)}\n",
    "# tuple_to_list =\n",
    "tuple_to_list = list(numbers_tuple)\n",
    "# tuple_to_set =\n",
    "tuple_to_set = set(numbers_tuple)\n",
    "# tuple_to_dict =\n",
    "tuple_to_dict = {index: value for index, value in enumerate(numbers_tuple)}\n",
    "# set_to_list =\n",
    "set_to_list = list(set_a)\n",
    "# set_to_tuple =\n",
    "set_to_tuple = tuple(set_a)\n",
    "# set_to_dict =\n",
    "set_to_dict = {index: value for index, value in enumerate(set_a)}\n",
    "# dict_to_list =\n",
    "dict_to_list = list(numbers_dict.values())\n",
    "# dict_to_tuple =\n",
    "dict_to_tuple = tuple(numbers_dict.items())\n",
    "# dict_to_set =\n",
    "dict_to_set = set(numbers_dict.values())\n",
    "\n",
    "# Write Output to File like this:\n",
    "student_number = input(\"Enter student number: \")\n",
    "# Open file in write mode\n",
    "output_file_path = \"output.txt\"\n",
    "with open(output_file_path, 'w') as file:\n",
    "    file.write(\"Student Number: \" + student_number + \"\\n\\n\")\n",
    "    file.write(\"Original List: \" + str(numbers_list) + \"\\n\")\n",
    "    file.write(\"Original Tuple: \" + str(numbers_tuple) + \"\\n\")\n",
    "    file.write(\"Original Set: \" + str(numbers_set) + \"\\n\")\n",
    "    file.write(\"Original Dictionary: \" + str(numbers_dict) + \"\\n\\n\")\n",
    "    file.write(\"Manipulated List: \" + str(numbers_list) + \"\\n\")\n",
    "    file.write(\"Manipulated Tuple: \" + str(numbers_tuple) + \"\\n\")\n",
    "    file.write(\"Union of Set: \" + str(set_union) + \"\\n\")\n",
    "    file.write(\"Intersection of Set: \" + str(set_intersection) + \"\\n\")\n",
    "    file.write(\"Difference of Set: \" + str(set_difference) + \"\\n\")\n",
    "    file.write(\"Updated Dictionary: \" + str(numbers_dict) + \"\\n\\n\")\n",
    "    file.write(\"List to Tuple: \" + str(list_to_tuple) + \"\\n\")\n",
    "    file.write(\"List to Set: \" + str(list_to_set) + \"\\n\")\n",
    "    file.write(\"List to Dictionary: \" + str(list_to_dict) + \"\\n\")\n",
    "    file.write(\"Tuple to List: \" + str(tuple_to_list) + \"\\n\")\n",
    "    file.write(\"Tuple to Set: \" + str(tuple_to_set) + \"\\n\")\n",
    "    file.write(\"Tuple to Dictionary: \" + str(tuple_to_dict) + \"\\n\")\n",
    "    file.write(\"Set to List: \" + str(set_to_list) + \"\\n\")\n",
    "    file.write(\"Set to Tuple: \" + str(set_to_tuple) + \"\\n\")\n",
    "    file.write(\"Set to Dictionary: \" + str(set_to_dict) + \"\\n\")\n",
    "    file.write(\"Dictionary to List: \" + str(dict_to_list) + \"\\n\")\n",
    "    file.write(\"Dictionary to Tuple: \" + str(dict_to_tuple) + \"\\n\")\n",
    "    file.write(\"Dictionary to Set: \" + str(dict_to_set) + \"\\n\")\n",
    "\n",
    "# Print Content of the File\n",
    "with open(output_file_path, 'r') as file:\n",
    "    print(\"\\nContent of the file:\")\n",
    "    print(file.read())\n",
    "\n",
    "# Perform Operations on File:\n",
    "#   Count the number of lines in the file\n",
    " \n",
    "file = open(\"output.txt\", \"r\")\n",
    "total_lines = 0\n",
    "for line in file:\n",
    "    total_lines += 1\n",
    "print(\"Total count of lines:\", total_lines)\n",
    "file.close()\n",
    "#   Count the number of integers in the file\n",
    "file = open (\"output.txt\",\"r\")\n",
    "total_numbers = 0\n",
    "for line in file :\n",
    "   parts = line.split()\n",
    "   total_numbers += len(parts)\n",
    "print (total_numbers, \" Number of integers in a file \")\n",
    "\n",
    "#   Add all integers in the file (sum).\n",
    "with open('output.txt') as f: \n",
    "    fdata=f.read() \n",
    "import re \n",
    "reObj=re.compile('\\d+') \n",
    "mo=reObj.findall(fdata) \n",
    "n=[] \n",
    "for i in mo:n.append(int(i)) \n",
    "print(sum(n) , \" Sum of all numbers\")\n",
    "\n",
    "\n",
    "#   Modify the content of the file\n",
    "search=1\n",
    "replace =2\n",
    "with open(r'output.txt','r') as f:\n",
    "    data =f.read()\n",
    "    data =data.replace(str(search),str(replace))\n",
    "    with open(r'output.txt','w') as f:\n",
    "        f.write(data)\n",
    "        print(\"replaced, 1 with 2  \")\n",
    "\n"
   ],
   "metadata": {
    "collapsed": false,
    "ExecuteTime": {
     "end_time": "2024-03-11T13:14:53.001460Z",
     "start_time": "2024-03-11T13:14:50.279563Z"
    }
   },
   "execution_count": 12
  },
  {
   "cell_type": "markdown",
   "source": [
    "--------------------------------------------------------------------------------\n",
    "**Control Statements:**\n",
    "Control statements are used in programming to alter the flow of execution based on certain conditions or criteria. In Python, commonly used control statements include:\n",
    "\n",
    "`if, elif, else:` These statements are used for conditional execution. They allow the program to execute different blocks of code based on specified conditions.\n",
    "\n",
    "`for loop:` Used for iterating over a sequence (such as lists, tuples, strings, etc.) or any iterable object. It allows you to execute a block of code repeatedly for each item in the sequence.\n",
    "\n",
    "`while loop:` Used for executing a block of code repeatedly as long as a specified condition is true. It keeps iterating until the condition becomes false.\n",
    "\n",
    "\n",
    "**Loops:**\n",
    "Loops are used for executing a block of code repeatedly. In Python, there are two main types of loops:\n",
    "\n",
    "`for loop: `As mentioned earlier, the for loop iterates over a sequence or any iterable object.\n",
    "\n",
    "`while loop:` This loop executes a block of code as long as a specified condition is true. It continues iterating until the condition becomes false.\n",
    "\n",
    "**Other Statements:**\n",
    "This category typically includes other types of statements that don't fall directly under control statements or loops. It can include various types of statements used for different purposes in Python programming, such as:\n",
    "\n",
    "`Assignment statements:` Assigning values to variables.\n",
    "\n",
    "`Function calls:` Invoking functions to perform specific tasks.\n",
    "\n",
    "`Import statements:` Importing modules or packages to use their functionality in the current script or program.\n",
    "\n",
    "`Exception handling statements: `Statements used for handling exceptions (errors) that may occur during the execution of a program, such as try, except, finally, etc.\n",
    "\n",
    "`With statements: `Used for resource management, especially for working with files, to ensure that certain resources are properly closed or released after use.\n",
    "\n",
    "These are fundamental constructs in Python programming that enable you to control the flow of your program, repeat tasks efficiently, and execute various types of statements to achieve desired functionality.\n",
    "\n",
    "-------------------------------------------------------------------------------"
   ],
   "metadata": {
    "id": "kDx3mxAgD2L7"
   }
  },
  {
   "cell_type": "markdown",
   "source": [
    "9.  Utilizing the Largest Integer from output.txt\n",
    "\n",
    "  Task Description:\n",
    "\n",
    "  Transform the previous task to utilize the largest integer from the output file 'output.txt' instead of asking the user for it.\n",
    "\n",
    "  1. Read the largest integer from the 'output.txt' file.\n",
    "  2. Generate a list of all prime numbers up to the largest integer.\n",
    "  3. Print the list of prime numbers.\n",
    "  4. Calculate the sum of all prime numbers in the list.\n",
    "  5. Determine the largest and smallest prime numbers in the list.\n",
    "  6. Check if the largest integer itself is prime and print the result.\n",
    "  7. Write the list of prime numbers along with the sum, largest, and smallest prime numbers to a file 'prime_numbers.txt'.\n",
    "  8. Handle the scenario where the largest integer cannot be found in the file.\n",
    "\n",
    "  Example:\n",
    "\n",
    "  If the 'output.txt' file contains:\n",
    "  Largest prime number: 20\n",
    "\n",
    "  The program will generate the list of prime numbers up to 20, perform calculations, and write the results to 'prime_numbers.txt'.\n"
   ],
   "metadata": {
    "id": "pWC3IYevHysh"
   }
  },
  {
   "cell_type": "code",
   "source": [
    "import random\n",
    "import math\n",
    "\n",
    "output_file_path = \"output.txt\"\n",
    "prime_numbers_file_path = \"prime_numbers.txt\"\n",
    "\n",
    "random_integers = [random.randint(1, 50) for _ in range(20)]\n",
    "with open(output_file_path, 'w') as f:\n",
    "    for num in random_integers:\n",
    "        f.write(str(num) + \" \")\n",
    "\n",
    "with open(output_file_path, 'r') as f:\n",
    "    content = f.read()\n",
    "    numbers = [int(num) for num in content.split() if num.isdigit()]\n",
    "    if numbers:\n",
    "        largest_integer = max(numbers)\n",
    "\n",
    "        def is_prime(n):\n",
    "            if n <= 1:\n",
    "                return False\n",
    "            for i in range(2, int(math.sqrt(n)) + 1):\n",
    "                if n % i == 0:\n",
    "                    return False\n",
    "            return True\n",
    "\n",
    "        prime_numbers = [num for num in range(2, largest_integer + 1) if is_prime(num)]\n",
    "\n",
    "        print(\"List of prime numbers:\", prime_numbers)\n",
    "\n",
    "        prime_sum = sum(prime_numbers)\n",
    "\n",
    "        largest_prime = max(prime_numbers)\n",
    "        smallest_prime = min(prime_numbers)\n",
    "\n",
    "        with open(prime_numbers_file_path, 'w') as prime_file:\n",
    "            prime_file.write(\"List of prime numbers: \" + str(prime_numbers) + \"\\n\")\n",
    "            prime_file.write(\"Sum of prime numbers: \" + str(prime_sum) + \"\\n\")\n",
    "            prime_file.write(\"Largest prime number: \" + str(largest_prime) + \"\\n\")\n",
    "            prime_file.write(\"Smallest prime number: \" + str(smallest_prime) + \"\\n\")\n",
    "\n",
    "        if is_prime(largest_integer):\n",
    "            print(\"The largest integer is prime.\")\n",
    "        else:\n",
    "            print(\"The largest integer is not prime.\")\n",
    "    else:\n",
    "        print(\"No integers found in the file.\")\n",
    "\n",
    "print(\"Largest prime number:\", largest_prime)\n",
    "print(\"Content of the prime.txt file\",\"\\n\")\n",
    "with open(r'prime_numbers.txt', 'r') as f:\n",
    "    print(f.read())"
   ],
   "metadata": {
    "id": "-Lz65OTiM7ds",
    "ExecuteTime": {
     "end_time": "2024-03-11T13:13:50.848730Z",
     "start_time": "2024-03-11T13:13:50.831619Z"
    }
   },
   "execution_count": 10,
   "outputs": [
    {
     "name": "stdout",
     "output_type": "stream",
     "text": [
      "List of prime numbers: [2, 3, 5, 7, 11, 13, 17, 19, 23, 29, 31, 37, 41, 43, 47]\n",
      "The largest integer is not prime.\n",
      "Largest prime number: 47\n",
      "Content of the prime.txt file \n",
      "\n",
      "List of prime numbers: [2, 3, 5, 7, 11, 13, 17, 19, 23, 29, 31, 37, 41, 43, 47]\n",
      "Sum of prime numbers: 328\n",
      "Largest prime number: 47\n",
      "Smallest prime number: 2\n"
     ]
    }
   ]
  },
  {
   "cell_type": "markdown",
   "source": [
    "10.\n",
    "In the final main.ipynb file, leave the results from task 8 and 9, commit and push"
   ],
   "metadata": {
    "id": "V5bxEjZFNCAA"
   }
  },
  {
   "cell_type": "code",
   "outputs": [],
   "source": [],
   "metadata": {
    "collapsed": false,
    "ExecuteTime": {
     "end_time": "2024-03-11T10:21:33.356823Z",
     "start_time": "2024-03-11T10:21:33.352846Z"
    }
   },
   "execution_count": 52
  },
  {
   "cell_type": "code",
   "outputs": [],
   "source": [],
   "metadata": {
    "collapsed": false
   }
  }
 ]
}
